{
  "nbformat": 4,
  "nbformat_minor": 0,
  "metadata": {
    "colab": {
      "provenance": []
    },
    "kernelspec": {
      "name": "python3",
      "display_name": "Python 3"
    },
    "language_info": {
      "name": "python"
    }
  },
  "cells": [
    {
      "cell_type": "code",
      "execution_count": 3,
      "metadata": {
        "colab": {
          "base_uri": "https://localhost:8080/",
          "height": 74
        },
        "id": "jG6kktGtLJsV",
        "outputId": "644e485a-af76-4aee-e8f6-54ce1d2b18ff"
      },
      "outputs": [
        {
          "output_type": "display_data",
          "data": {
            "text/plain": [
              "<IPython.core.display.HTML object>"
            ],
            "text/html": [
              "\n",
              "     <input type=\"file\" id=\"files-100dbc21-9d39-4189-951e-289701e1d5f7\" name=\"files[]\" multiple disabled\n",
              "        style=\"border:none\" />\n",
              "     <output id=\"result-100dbc21-9d39-4189-951e-289701e1d5f7\">\n",
              "      Upload widget is only available when the cell has been executed in the\n",
              "      current browser session. Please rerun this cell to enable.\n",
              "      </output>\n",
              "      <script>// Copyright 2017 Google LLC\n",
              "//\n",
              "// Licensed under the Apache License, Version 2.0 (the \"License\");\n",
              "// you may not use this file except in compliance with the License.\n",
              "// You may obtain a copy of the License at\n",
              "//\n",
              "//      http://www.apache.org/licenses/LICENSE-2.0\n",
              "//\n",
              "// Unless required by applicable law or agreed to in writing, software\n",
              "// distributed under the License is distributed on an \"AS IS\" BASIS,\n",
              "// WITHOUT WARRANTIES OR CONDITIONS OF ANY KIND, either express or implied.\n",
              "// See the License for the specific language governing permissions and\n",
              "// limitations under the License.\n",
              "\n",
              "/**\n",
              " * @fileoverview Helpers for google.colab Python module.\n",
              " */\n",
              "(function(scope) {\n",
              "function span(text, styleAttributes = {}) {\n",
              "  const element = document.createElement('span');\n",
              "  element.textContent = text;\n",
              "  for (const key of Object.keys(styleAttributes)) {\n",
              "    element.style[key] = styleAttributes[key];\n",
              "  }\n",
              "  return element;\n",
              "}\n",
              "\n",
              "// Max number of bytes which will be uploaded at a time.\n",
              "const MAX_PAYLOAD_SIZE = 100 * 1024;\n",
              "\n",
              "function _uploadFiles(inputId, outputId) {\n",
              "  const steps = uploadFilesStep(inputId, outputId);\n",
              "  const outputElement = document.getElementById(outputId);\n",
              "  // Cache steps on the outputElement to make it available for the next call\n",
              "  // to uploadFilesContinue from Python.\n",
              "  outputElement.steps = steps;\n",
              "\n",
              "  return _uploadFilesContinue(outputId);\n",
              "}\n",
              "\n",
              "// This is roughly an async generator (not supported in the browser yet),\n",
              "// where there are multiple asynchronous steps and the Python side is going\n",
              "// to poll for completion of each step.\n",
              "// This uses a Promise to block the python side on completion of each step,\n",
              "// then passes the result of the previous step as the input to the next step.\n",
              "function _uploadFilesContinue(outputId) {\n",
              "  const outputElement = document.getElementById(outputId);\n",
              "  const steps = outputElement.steps;\n",
              "\n",
              "  const next = steps.next(outputElement.lastPromiseValue);\n",
              "  return Promise.resolve(next.value.promise).then((value) => {\n",
              "    // Cache the last promise value to make it available to the next\n",
              "    // step of the generator.\n",
              "    outputElement.lastPromiseValue = value;\n",
              "    return next.value.response;\n",
              "  });\n",
              "}\n",
              "\n",
              "/**\n",
              " * Generator function which is called between each async step of the upload\n",
              " * process.\n",
              " * @param {string} inputId Element ID of the input file picker element.\n",
              " * @param {string} outputId Element ID of the output display.\n",
              " * @return {!Iterable<!Object>} Iterable of next steps.\n",
              " */\n",
              "function* uploadFilesStep(inputId, outputId) {\n",
              "  const inputElement = document.getElementById(inputId);\n",
              "  inputElement.disabled = false;\n",
              "\n",
              "  const outputElement = document.getElementById(outputId);\n",
              "  outputElement.innerHTML = '';\n",
              "\n",
              "  const pickedPromise = new Promise((resolve) => {\n",
              "    inputElement.addEventListener('change', (e) => {\n",
              "      resolve(e.target.files);\n",
              "    });\n",
              "  });\n",
              "\n",
              "  const cancel = document.createElement('button');\n",
              "  inputElement.parentElement.appendChild(cancel);\n",
              "  cancel.textContent = 'Cancel upload';\n",
              "  const cancelPromise = new Promise((resolve) => {\n",
              "    cancel.onclick = () => {\n",
              "      resolve(null);\n",
              "    };\n",
              "  });\n",
              "\n",
              "  // Wait for the user to pick the files.\n",
              "  const files = yield {\n",
              "    promise: Promise.race([pickedPromise, cancelPromise]),\n",
              "    response: {\n",
              "      action: 'starting',\n",
              "    }\n",
              "  };\n",
              "\n",
              "  cancel.remove();\n",
              "\n",
              "  // Disable the input element since further picks are not allowed.\n",
              "  inputElement.disabled = true;\n",
              "\n",
              "  if (!files) {\n",
              "    return {\n",
              "      response: {\n",
              "        action: 'complete',\n",
              "      }\n",
              "    };\n",
              "  }\n",
              "\n",
              "  for (const file of files) {\n",
              "    const li = document.createElement('li');\n",
              "    li.append(span(file.name, {fontWeight: 'bold'}));\n",
              "    li.append(span(\n",
              "        `(${file.type || 'n/a'}) - ${file.size} bytes, ` +\n",
              "        `last modified: ${\n",
              "            file.lastModifiedDate ? file.lastModifiedDate.toLocaleDateString() :\n",
              "                                    'n/a'} - `));\n",
              "    const percent = span('0% done');\n",
              "    li.appendChild(percent);\n",
              "\n",
              "    outputElement.appendChild(li);\n",
              "\n",
              "    const fileDataPromise = new Promise((resolve) => {\n",
              "      const reader = new FileReader();\n",
              "      reader.onload = (e) => {\n",
              "        resolve(e.target.result);\n",
              "      };\n",
              "      reader.readAsArrayBuffer(file);\n",
              "    });\n",
              "    // Wait for the data to be ready.\n",
              "    let fileData = yield {\n",
              "      promise: fileDataPromise,\n",
              "      response: {\n",
              "        action: 'continue',\n",
              "      }\n",
              "    };\n",
              "\n",
              "    // Use a chunked sending to avoid message size limits. See b/62115660.\n",
              "    let position = 0;\n",
              "    do {\n",
              "      const length = Math.min(fileData.byteLength - position, MAX_PAYLOAD_SIZE);\n",
              "      const chunk = new Uint8Array(fileData, position, length);\n",
              "      position += length;\n",
              "\n",
              "      const base64 = btoa(String.fromCharCode.apply(null, chunk));\n",
              "      yield {\n",
              "        response: {\n",
              "          action: 'append',\n",
              "          file: file.name,\n",
              "          data: base64,\n",
              "        },\n",
              "      };\n",
              "\n",
              "      let percentDone = fileData.byteLength === 0 ?\n",
              "          100 :\n",
              "          Math.round((position / fileData.byteLength) * 100);\n",
              "      percent.textContent = `${percentDone}% done`;\n",
              "\n",
              "    } while (position < fileData.byteLength);\n",
              "  }\n",
              "\n",
              "  // All done.\n",
              "  yield {\n",
              "    response: {\n",
              "      action: 'complete',\n",
              "    }\n",
              "  };\n",
              "}\n",
              "\n",
              "scope.google = scope.google || {};\n",
              "scope.google.colab = scope.google.colab || {};\n",
              "scope.google.colab._files = {\n",
              "  _uploadFiles,\n",
              "  _uploadFilesContinue,\n",
              "};\n",
              "})(self);\n",
              "</script> "
            ]
          },
          "metadata": {}
        },
        {
          "output_type": "stream",
          "name": "stdout",
          "text": [
            "Saving CA_users_c.csv to CA_users_c.csv\n"
          ]
        }
      ],
      "source": [
        "from google.colab import files\n",
        "uploaded = files.upload()\n"
      ]
    },
    {
      "cell_type": "code",
      "source": [
        "!pip install scikit-surprise\n",
        "from surprise import SVD, SVDpp\n"
      ],
      "metadata": {
        "colab": {
          "base_uri": "https://localhost:8080/"
        },
        "id": "74dn0hLRNrKh",
        "outputId": "d838dabe-2367-4a58-88fc-99a9cd9097e1"
      },
      "execution_count": 4,
      "outputs": [
        {
          "output_type": "stream",
          "name": "stdout",
          "text": [
            "Looking in indexes: https://pypi.org/simple, https://us-python.pkg.dev/colab-wheels/public/simple/\n",
            "Collecting scikit-surprise\n",
            "  Downloading scikit-surprise-1.1.3.tar.gz (771 kB)\n",
            "\u001b[K     |████████████████████████████████| 771 kB 3.9 MB/s \n",
            "\u001b[?25hRequirement already satisfied: joblib>=1.0.0 in /usr/local/lib/python3.8/dist-packages (from scikit-surprise) (1.2.0)\n",
            "Requirement already satisfied: numpy>=1.17.3 in /usr/local/lib/python3.8/dist-packages (from scikit-surprise) (1.21.6)\n",
            "Requirement already satisfied: scipy>=1.3.2 in /usr/local/lib/python3.8/dist-packages (from scikit-surprise) (1.7.3)\n",
            "Building wheels for collected packages: scikit-surprise\n",
            "  Building wheel for scikit-surprise (setup.py) ... \u001b[?25l\u001b[?25hdone\n",
            "  Created wheel for scikit-surprise: filename=scikit_surprise-1.1.3-cp38-cp38-linux_x86_64.whl size=2626450 sha256=cd06a6bcb8560f74bbca524e90345719b4dfcf8a1f8282a9d1d43365a49c93fb\n",
            "  Stored in directory: /root/.cache/pip/wheels/af/db/86/2c18183a80ba05da35bf0fb7417aac5cddbd93bcb1b92fd3ea\n",
            "Successfully built scikit-surprise\n",
            "Installing collected packages: scikit-surprise\n",
            "Successfully installed scikit-surprise-1.1.3\n"
          ]
        }
      ]
    },
    {
      "cell_type": "code",
      "source": [
        "import pandas as pd\n",
        "from surprise import Dataset, Reader\n",
        "from surprise import accuracy\n",
        "from surprise.model_selection import train_test_split\n",
        "from surprise.model_selection import GridSearchCV\n",
        "from surprise.model_selection import KFold\n",
        "import matplotlib.pyplot as plt\n"
      ],
      "metadata": {
        "id": "JJ13XbION38s"
      },
      "execution_count": 5,
      "outputs": []
    },
    {
      "cell_type": "markdown",
      "source": [
        "#Creating Dataframes"
      ],
      "metadata": {
        "id": "rJuHGunrN9mE"
      }
    },
    {
      "cell_type": "code",
      "source": [
        "reviews = pd.read_csv('California_reviews_c.csv', usecols= ['business_id', 'stars', 'review_id', 'user_id'])\n",
        "business = pd.read_csv('business.csv', usecols= ['business_id', 'name'])\n",
        "users = pd.read_csv('CA_users_c.csv', usecols= ['user_id', 'is_elite'])"
      ],
      "metadata": {
        "id": "4pFWM43BOANX"
      },
      "execution_count": 6,
      "outputs": []
    },
    {
      "cell_type": "markdown",
      "source": [
        "Since users and business dataframe both have the same column names we will update them accordingly"
      ],
      "metadata": {
        "id": "a_xbVN5CPPkc"
      }
    },
    {
      "cell_type": "code",
      "source": [
        "users = users.rename(columns = { 'name': 'Username' })\n",
        "business = business.rename(columns = { 'name': 'Restaurant name' })\n",
        "reviews.columns\n",
        "reviews.head()"
      ],
      "metadata": {
        "colab": {
          "base_uri": "https://localhost:8080/",
          "height": 206
        },
        "id": "aPYwNSWjPQMr",
        "outputId": "318681d0-f59b-40c5-b18a-1896ed09cb9e"
      },
      "execution_count": 7,
      "outputs": [
        {
          "output_type": "execute_result",
          "data": {
            "text/plain": [
              "                review_id                 user_id             business_id  \\\n",
              "0  SGVGJQ2EiAumz1ofc2T54g  vaAEyqOPZcn_3F-1nzsenQ  KC8_Rx4Orlsz8LIonCYXsA   \n",
              "1  5VWz3KmMp4mq9agrL_sWZQ  Y-SzX4gmeVqu1_JSjTx7RA  9u79dIXLQzmt9rnOZEnBaQ   \n",
              "2  OBgljJsqYKQihXC1q_e5rQ  FczCp38lpeYAQRCL9PQ5rw  9u79dIXLQzmt9rnOZEnBaQ   \n",
              "3  HJCjJcCkDEJ5yfbIdLuAXQ  hr4ZCUwACcidRjnnjZVxZQ  v4AMcIZ--hXZuJIg3luUgg   \n",
              "4  7NUfmZ5Kfr6Gl9IG8j8sAQ  4FXn5evsrPcGnYa1FsLGmw  sor6oj-nuslOcSx7di4urA   \n",
              "\n",
              "   stars  \n",
              "0      3  \n",
              "1      5  \n",
              "2      5  \n",
              "3      5  \n",
              "4      5  "
            ],
            "text/html": [
              "\n",
              "  <div id=\"df-26b9b1eb-ff2e-46c7-ad01-183b1c9912db\">\n",
              "    <div class=\"colab-df-container\">\n",
              "      <div>\n",
              "<style scoped>\n",
              "    .dataframe tbody tr th:only-of-type {\n",
              "        vertical-align: middle;\n",
              "    }\n",
              "\n",
              "    .dataframe tbody tr th {\n",
              "        vertical-align: top;\n",
              "    }\n",
              "\n",
              "    .dataframe thead th {\n",
              "        text-align: right;\n",
              "    }\n",
              "</style>\n",
              "<table border=\"1\" class=\"dataframe\">\n",
              "  <thead>\n",
              "    <tr style=\"text-align: right;\">\n",
              "      <th></th>\n",
              "      <th>review_id</th>\n",
              "      <th>user_id</th>\n",
              "      <th>business_id</th>\n",
              "      <th>stars</th>\n",
              "    </tr>\n",
              "  </thead>\n",
              "  <tbody>\n",
              "    <tr>\n",
              "      <th>0</th>\n",
              "      <td>SGVGJQ2EiAumz1ofc2T54g</td>\n",
              "      <td>vaAEyqOPZcn_3F-1nzsenQ</td>\n",
              "      <td>KC8_Rx4Orlsz8LIonCYXsA</td>\n",
              "      <td>3</td>\n",
              "    </tr>\n",
              "    <tr>\n",
              "      <th>1</th>\n",
              "      <td>5VWz3KmMp4mq9agrL_sWZQ</td>\n",
              "      <td>Y-SzX4gmeVqu1_JSjTx7RA</td>\n",
              "      <td>9u79dIXLQzmt9rnOZEnBaQ</td>\n",
              "      <td>5</td>\n",
              "    </tr>\n",
              "    <tr>\n",
              "      <th>2</th>\n",
              "      <td>OBgljJsqYKQihXC1q_e5rQ</td>\n",
              "      <td>FczCp38lpeYAQRCL9PQ5rw</td>\n",
              "      <td>9u79dIXLQzmt9rnOZEnBaQ</td>\n",
              "      <td>5</td>\n",
              "    </tr>\n",
              "    <tr>\n",
              "      <th>3</th>\n",
              "      <td>HJCjJcCkDEJ5yfbIdLuAXQ</td>\n",
              "      <td>hr4ZCUwACcidRjnnjZVxZQ</td>\n",
              "      <td>v4AMcIZ--hXZuJIg3luUgg</td>\n",
              "      <td>5</td>\n",
              "    </tr>\n",
              "    <tr>\n",
              "      <th>4</th>\n",
              "      <td>7NUfmZ5Kfr6Gl9IG8j8sAQ</td>\n",
              "      <td>4FXn5evsrPcGnYa1FsLGmw</td>\n",
              "      <td>sor6oj-nuslOcSx7di4urA</td>\n",
              "      <td>5</td>\n",
              "    </tr>\n",
              "  </tbody>\n",
              "</table>\n",
              "</div>\n",
              "      <button class=\"colab-df-convert\" onclick=\"convertToInteractive('df-26b9b1eb-ff2e-46c7-ad01-183b1c9912db')\"\n",
              "              title=\"Convert this dataframe to an interactive table.\"\n",
              "              style=\"display:none;\">\n",
              "        \n",
              "  <svg xmlns=\"http://www.w3.org/2000/svg\" height=\"24px\"viewBox=\"0 0 24 24\"\n",
              "       width=\"24px\">\n",
              "    <path d=\"M0 0h24v24H0V0z\" fill=\"none\"/>\n",
              "    <path d=\"M18.56 5.44l.94 2.06.94-2.06 2.06-.94-2.06-.94-.94-2.06-.94 2.06-2.06.94zm-11 1L8.5 8.5l.94-2.06 2.06-.94-2.06-.94L8.5 2.5l-.94 2.06-2.06.94zm10 10l.94 2.06.94-2.06 2.06-.94-2.06-.94-.94-2.06-.94 2.06-2.06.94z\"/><path d=\"M17.41 7.96l-1.37-1.37c-.4-.4-.92-.59-1.43-.59-.52 0-1.04.2-1.43.59L10.3 9.45l-7.72 7.72c-.78.78-.78 2.05 0 2.83L4 21.41c.39.39.9.59 1.41.59.51 0 1.02-.2 1.41-.59l7.78-7.78 2.81-2.81c.8-.78.8-2.07 0-2.86zM5.41 20L4 18.59l7.72-7.72 1.47 1.35L5.41 20z\"/>\n",
              "  </svg>\n",
              "      </button>\n",
              "      \n",
              "  <style>\n",
              "    .colab-df-container {\n",
              "      display:flex;\n",
              "      flex-wrap:wrap;\n",
              "      gap: 12px;\n",
              "    }\n",
              "\n",
              "    .colab-df-convert {\n",
              "      background-color: #E8F0FE;\n",
              "      border: none;\n",
              "      border-radius: 50%;\n",
              "      cursor: pointer;\n",
              "      display: none;\n",
              "      fill: #1967D2;\n",
              "      height: 32px;\n",
              "      padding: 0 0 0 0;\n",
              "      width: 32px;\n",
              "    }\n",
              "\n",
              "    .colab-df-convert:hover {\n",
              "      background-color: #E2EBFA;\n",
              "      box-shadow: 0px 1px 2px rgba(60, 64, 67, 0.3), 0px 1px 3px 1px rgba(60, 64, 67, 0.15);\n",
              "      fill: #174EA6;\n",
              "    }\n",
              "\n",
              "    [theme=dark] .colab-df-convert {\n",
              "      background-color: #3B4455;\n",
              "      fill: #D2E3FC;\n",
              "    }\n",
              "\n",
              "    [theme=dark] .colab-df-convert:hover {\n",
              "      background-color: #434B5C;\n",
              "      box-shadow: 0px 1px 3px 1px rgba(0, 0, 0, 0.15);\n",
              "      filter: drop-shadow(0px 1px 2px rgba(0, 0, 0, 0.3));\n",
              "      fill: #FFFFFF;\n",
              "    }\n",
              "  </style>\n",
              "\n",
              "      <script>\n",
              "        const buttonEl =\n",
              "          document.querySelector('#df-26b9b1eb-ff2e-46c7-ad01-183b1c9912db button.colab-df-convert');\n",
              "        buttonEl.style.display =\n",
              "          google.colab.kernel.accessAllowed ? 'block' : 'none';\n",
              "\n",
              "        async function convertToInteractive(key) {\n",
              "          const element = document.querySelector('#df-26b9b1eb-ff2e-46c7-ad01-183b1c9912db');\n",
              "          const dataTable =\n",
              "            await google.colab.kernel.invokeFunction('convertToInteractive',\n",
              "                                                     [key], {});\n",
              "          if (!dataTable) return;\n",
              "\n",
              "          const docLinkHtml = 'Like what you see? Visit the ' +\n",
              "            '<a target=\"_blank\" href=https://colab.research.google.com/notebooks/data_table.ipynb>data table notebook</a>'\n",
              "            + ' to learn more about interactive tables.';\n",
              "          element.innerHTML = '';\n",
              "          dataTable['output_type'] = 'display_data';\n",
              "          await google.colab.output.renderOutput(dataTable, element);\n",
              "          const docLink = document.createElement('div');\n",
              "          docLink.innerHTML = docLinkHtml;\n",
              "          element.appendChild(docLink);\n",
              "        }\n",
              "      </script>\n",
              "    </div>\n",
              "  </div>\n",
              "  "
            ]
          },
          "metadata": {},
          "execution_count": 7
        }
      ]
    },
    {
      "cell_type": "code",
      "source": [
        "business.columns"
      ],
      "metadata": {
        "colab": {
          "base_uri": "https://localhost:8080/"
        },
        "id": "r8I-zj56PU70",
        "outputId": "c09147fd-0a1a-45bd-e6ac-f6079fd14e34"
      },
      "execution_count": 8,
      "outputs": [
        {
          "output_type": "execute_result",
          "data": {
            "text/plain": [
              "Index(['business_id', 'Restaurant name'], dtype='object')"
            ]
          },
          "metadata": {},
          "execution_count": 8
        }
      ]
    },
    {
      "cell_type": "code",
      "source": [
        "users.columns"
      ],
      "metadata": {
        "colab": {
          "base_uri": "https://localhost:8080/"
        },
        "id": "sMNF7JKmPXQu",
        "outputId": "6dd173ed-b766-4501-8a82-46c83f06fef8"
      },
      "execution_count": 9,
      "outputs": [
        {
          "output_type": "execute_result",
          "data": {
            "text/plain": [
              "Index(['user_id', 'is_elite'], dtype='object')"
            ]
          },
          "metadata": {},
          "execution_count": 9
        }
      ]
    },
    {
      "cell_type": "code",
      "source": [
        "users.head()"
      ],
      "metadata": {
        "colab": {
          "base_uri": "https://localhost:8080/",
          "height": 206
        },
        "id": "2nz9j9YnP2ZU",
        "outputId": "923aa4b3-3b4d-4dc6-afa8-1390cbe5b5ec"
      },
      "execution_count": 10,
      "outputs": [
        {
          "output_type": "execute_result",
          "data": {
            "text/plain": [
              "                  user_id  is_elite\n",
              "0  UX5F5uklksvo-MTPFMD_kQ     False\n",
              "1  DKg1g4YdyJE5VnSKE3A8xQ     False\n",
              "2  rAwpi3P0xp-3S6Fzgjpvnw     False\n",
              "3  UdKQcwk0kLf4AXtKGDvw4w     False\n",
              "4  rue63aaJc5qpmruNlML-Lg     False"
            ],
            "text/html": [
              "\n",
              "  <div id=\"df-cafbfc5e-cc6d-4c2e-930a-3101e80abb5c\">\n",
              "    <div class=\"colab-df-container\">\n",
              "      <div>\n",
              "<style scoped>\n",
              "    .dataframe tbody tr th:only-of-type {\n",
              "        vertical-align: middle;\n",
              "    }\n",
              "\n",
              "    .dataframe tbody tr th {\n",
              "        vertical-align: top;\n",
              "    }\n",
              "\n",
              "    .dataframe thead th {\n",
              "        text-align: right;\n",
              "    }\n",
              "</style>\n",
              "<table border=\"1\" class=\"dataframe\">\n",
              "  <thead>\n",
              "    <tr style=\"text-align: right;\">\n",
              "      <th></th>\n",
              "      <th>user_id</th>\n",
              "      <th>is_elite</th>\n",
              "    </tr>\n",
              "  </thead>\n",
              "  <tbody>\n",
              "    <tr>\n",
              "      <th>0</th>\n",
              "      <td>UX5F5uklksvo-MTPFMD_kQ</td>\n",
              "      <td>False</td>\n",
              "    </tr>\n",
              "    <tr>\n",
              "      <th>1</th>\n",
              "      <td>DKg1g4YdyJE5VnSKE3A8xQ</td>\n",
              "      <td>False</td>\n",
              "    </tr>\n",
              "    <tr>\n",
              "      <th>2</th>\n",
              "      <td>rAwpi3P0xp-3S6Fzgjpvnw</td>\n",
              "      <td>False</td>\n",
              "    </tr>\n",
              "    <tr>\n",
              "      <th>3</th>\n",
              "      <td>UdKQcwk0kLf4AXtKGDvw4w</td>\n",
              "      <td>False</td>\n",
              "    </tr>\n",
              "    <tr>\n",
              "      <th>4</th>\n",
              "      <td>rue63aaJc5qpmruNlML-Lg</td>\n",
              "      <td>False</td>\n",
              "    </tr>\n",
              "  </tbody>\n",
              "</table>\n",
              "</div>\n",
              "      <button class=\"colab-df-convert\" onclick=\"convertToInteractive('df-cafbfc5e-cc6d-4c2e-930a-3101e80abb5c')\"\n",
              "              title=\"Convert this dataframe to an interactive table.\"\n",
              "              style=\"display:none;\">\n",
              "        \n",
              "  <svg xmlns=\"http://www.w3.org/2000/svg\" height=\"24px\"viewBox=\"0 0 24 24\"\n",
              "       width=\"24px\">\n",
              "    <path d=\"M0 0h24v24H0V0z\" fill=\"none\"/>\n",
              "    <path d=\"M18.56 5.44l.94 2.06.94-2.06 2.06-.94-2.06-.94-.94-2.06-.94 2.06-2.06.94zm-11 1L8.5 8.5l.94-2.06 2.06-.94-2.06-.94L8.5 2.5l-.94 2.06-2.06.94zm10 10l.94 2.06.94-2.06 2.06-.94-2.06-.94-.94-2.06-.94 2.06-2.06.94z\"/><path d=\"M17.41 7.96l-1.37-1.37c-.4-.4-.92-.59-1.43-.59-.52 0-1.04.2-1.43.59L10.3 9.45l-7.72 7.72c-.78.78-.78 2.05 0 2.83L4 21.41c.39.39.9.59 1.41.59.51 0 1.02-.2 1.41-.59l7.78-7.78 2.81-2.81c.8-.78.8-2.07 0-2.86zM5.41 20L4 18.59l7.72-7.72 1.47 1.35L5.41 20z\"/>\n",
              "  </svg>\n",
              "      </button>\n",
              "      \n",
              "  <style>\n",
              "    .colab-df-container {\n",
              "      display:flex;\n",
              "      flex-wrap:wrap;\n",
              "      gap: 12px;\n",
              "    }\n",
              "\n",
              "    .colab-df-convert {\n",
              "      background-color: #E8F0FE;\n",
              "      border: none;\n",
              "      border-radius: 50%;\n",
              "      cursor: pointer;\n",
              "      display: none;\n",
              "      fill: #1967D2;\n",
              "      height: 32px;\n",
              "      padding: 0 0 0 0;\n",
              "      width: 32px;\n",
              "    }\n",
              "\n",
              "    .colab-df-convert:hover {\n",
              "      background-color: #E2EBFA;\n",
              "      box-shadow: 0px 1px 2px rgba(60, 64, 67, 0.3), 0px 1px 3px 1px rgba(60, 64, 67, 0.15);\n",
              "      fill: #174EA6;\n",
              "    }\n",
              "\n",
              "    [theme=dark] .colab-df-convert {\n",
              "      background-color: #3B4455;\n",
              "      fill: #D2E3FC;\n",
              "    }\n",
              "\n",
              "    [theme=dark] .colab-df-convert:hover {\n",
              "      background-color: #434B5C;\n",
              "      box-shadow: 0px 1px 3px 1px rgba(0, 0, 0, 0.15);\n",
              "      filter: drop-shadow(0px 1px 2px rgba(0, 0, 0, 0.3));\n",
              "      fill: #FFFFFF;\n",
              "    }\n",
              "  </style>\n",
              "\n",
              "      <script>\n",
              "        const buttonEl =\n",
              "          document.querySelector('#df-cafbfc5e-cc6d-4c2e-930a-3101e80abb5c button.colab-df-convert');\n",
              "        buttonEl.style.display =\n",
              "          google.colab.kernel.accessAllowed ? 'block' : 'none';\n",
              "\n",
              "        async function convertToInteractive(key) {\n",
              "          const element = document.querySelector('#df-cafbfc5e-cc6d-4c2e-930a-3101e80abb5c');\n",
              "          const dataTable =\n",
              "            await google.colab.kernel.invokeFunction('convertToInteractive',\n",
              "                                                     [key], {});\n",
              "          if (!dataTable) return;\n",
              "\n",
              "          const docLinkHtml = 'Like what you see? Visit the ' +\n",
              "            '<a target=\"_blank\" href=https://colab.research.google.com/notebooks/data_table.ipynb>data table notebook</a>'\n",
              "            + ' to learn more about interactive tables.';\n",
              "          element.innerHTML = '';\n",
              "          dataTable['output_type'] = 'display_data';\n",
              "          await google.colab.output.renderOutput(dataTable, element);\n",
              "          const docLink = document.createElement('div');\n",
              "          docLink.innerHTML = docLinkHtml;\n",
              "          element.appendChild(docLink);\n",
              "        }\n",
              "      </script>\n",
              "    </div>\n",
              "  </div>\n",
              "  "
            ]
          },
          "metadata": {},
          "execution_count": 10
        }
      ]
    },
    {
      "cell_type": "markdown",
      "source": [
        "##Elite Reviews Only\n"
      ],
      "metadata": {
        "id": "-mb6GSiAP-Yl"
      }
    },
    {
      "cell_type": "code",
      "source": [
        "elite_reviews_df = reviews.merge(users, how='left', on=['user_id'], indicator=True)\n",
        "elite_reviews_df.shape\n",
        "     "
      ],
      "metadata": {
        "colab": {
          "base_uri": "https://localhost:8080/"
        },
        "id": "hGNU7Rb6P_3-",
        "outputId": "fff1aa27-a560-46b6-ea2e-13a35884e53f"
      },
      "execution_count": 11,
      "outputs": [
        {
          "output_type": "execute_result",
          "data": {
            "text/plain": [
              "(53562, 6)"
            ]
          },
          "metadata": {},
          "execution_count": 11
        }
      ]
    },
    {
      "cell_type": "code",
      "source": [
        "\n",
        "elite_reviews_df = elite_reviews_df.loc[elite_reviews_df['is_elite'] == True]\n",
        "elite_reviews_df.shape\n",
        "     "
      ],
      "metadata": {
        "colab": {
          "base_uri": "https://localhost:8080/"
        },
        "id": "19PqlKIVQHNL",
        "outputId": "0b718bee-1199-4b0f-ef6e-f34ca4e8fff2"
      },
      "execution_count": 12,
      "outputs": [
        {
          "output_type": "execute_result",
          "data": {
            "text/plain": [
              "(2042, 6)"
            ]
          },
          "metadata": {},
          "execution_count": 12
        }
      ]
    },
    {
      "cell_type": "code",
      "source": [
        "reader = Reader(rating_scale=(1, 5))\n",
        "\n",
        "# The columns must correspond to user id, business id and stars (in that order).\n",
        "data = Dataset.load_from_df(elite_reviews_df[['user_id', 'business_id', 'stars']], reader)"
      ],
      "metadata": {
        "id": "abzTbXZMQJhD"
      },
      "execution_count": 13,
      "outputs": []
    },
    {
      "cell_type": "markdown",
      "source": [
        "#Collaborative filtering using cross validation and hyperparameter tuning\n"
      ],
      "metadata": {
        "id": "D6rdJuGIQOiU"
      }
    },
    {
      "cell_type": "markdown",
      "source": [
        "#SVD"
      ],
      "metadata": {
        "id": "UJ2cDKFrQl6o"
      }
    },
    {
      "cell_type": "code",
      "source": [
        "SVD_rmses = []\n",
        "kfolds_SVD = [3,5,6]\n",
        "n_split_to_best_param_grid = dict()\n",
        "n_split_to_best_rmse = dict()"
      ],
      "metadata": {
        "id": "TjPt_2TxQPjY"
      },
      "execution_count": 14,
      "outputs": []
    },
    {
      "cell_type": "markdown",
      "source": [
        "##Performing cross validations with different folds"
      ],
      "metadata": {
        "id": "d2QkjWerQsgx"
      }
    },
    {
      "cell_type": "code",
      "source": [
        "def crossValidation(nsplit,algo, param_grid):\n",
        "    kf = KFold(n_splits=nsplit, random_state=2,shuffle = True)\n",
        "    return GridSearchCV(algo_class=algo, param_grid = param_grid, measures=['rmse'], cv=kf)"
      ],
      "metadata": {
        "id": "9vZgrD-EQqaK"
      },
      "execution_count": 15,
      "outputs": []
    },
    {
      "cell_type": "markdown",
      "source": [
        "##Calculating the best paramters for SVD model to fetch best RMSE score"
      ],
      "metadata": {
        "id": "3M1tb99GQzmz"
      }
    },
    {
      "cell_type": "code",
      "source": [
        "def SVD_hyperparamter_tuning(kfolds):\n",
        "  param_grid_SVD = {\n",
        "  'n_factors':[5,8,10,15,20,25],\n",
        "  'n_epochs': [10, 20, 30, 40], \n",
        "  'lr_all': [0.005, 0.007],\n",
        "  'reg_all': [0.01,0.03,0.05,0.07],\n",
        "  }\n",
        "  for elem in kfolds_SVD:\n",
        "    gs_model = crossValidation(elem, SVD, param_grid_SVD)\n",
        "    gs_model.fit(data)\n",
        "    print(f\"With kFold as {elem}: \", gs_model.best_params)\n",
        "    n_split_to_best_param_grid[elem] = gs_model.best_params\n",
        "    print(f\"With kFold as {elem}: \", gs_model.best_score['rmse'])\n",
        "    n_split_to_best_rmse[elem] = gs_model.best_score['rmse']"
      ],
      "metadata": {
        "id": "SHLyYRkKQw3M"
      },
      "execution_count": 16,
      "outputs": []
    },
    {
      "cell_type": "code",
      "source": [
        "SVD_hyperparamter_tuning(kfolds_SVD)\n"
      ],
      "metadata": {
        "colab": {
          "base_uri": "https://localhost:8080/"
        },
        "id": "otsu5V9cQ5jM",
        "outputId": "b04babab-5e22-40c7-ca96-33a80a52761d"
      },
      "execution_count": 17,
      "outputs": [
        {
          "output_type": "stream",
          "name": "stdout",
          "text": [
            "With kFold as 3:  {'rmse': {'n_factors': 25, 'n_epochs': 40, 'lr_all': 0.007, 'reg_all': 0.01}}\n",
            "With kFold as 3:  0.7565618365822441\n",
            "With kFold as 5:  {'rmse': {'n_factors': 25, 'n_epochs': 40, 'lr_all': 0.007, 'reg_all': 0.01}}\n",
            "With kFold as 5:  0.6971805327617142\n",
            "With kFold as 6:  {'rmse': {'n_factors': 25, 'n_epochs': 40, 'lr_all': 0.007, 'reg_all': 0.01}}\n",
            "With kFold as 6:  0.647510890106997\n"
          ]
        }
      ]
    },
    {
      "cell_type": "code",
      "source": [
        "print(n_split_to_best_param_grid)"
      ],
      "metadata": {
        "colab": {
          "base_uri": "https://localhost:8080/"
        },
        "id": "uuTCO9yCRIK-",
        "outputId": "8896fab2-5458-4c0a-bdd3-e0403ff1240d"
      },
      "execution_count": 18,
      "outputs": [
        {
          "output_type": "stream",
          "name": "stdout",
          "text": [
            "{3: {'rmse': {'n_factors': 25, 'n_epochs': 40, 'lr_all': 0.007, 'reg_all': 0.01}}, 5: {'rmse': {'n_factors': 25, 'n_epochs': 40, 'lr_all': 0.007, 'reg_all': 0.01}}, 6: {'rmse': {'n_factors': 25, 'n_epochs': 40, 'lr_all': 0.007, 'reg_all': 0.01}}}\n"
          ]
        }
      ]
    },
    {
      "cell_type": "markdown",
      "source": [
        "##1. Training the model over the trainset with the hyperparamters\n",
        "##2. Evaluating the model over the testset to check how does it perform"
      ],
      "metadata": {
        "id": "KRuNc-r1RR9f"
      }
    },
    {
      "cell_type": "code",
      "source": [
        "def train_and_test_model():\n",
        "  SVD_rmses = []\n",
        "  for n_split,param_grid in n_split_to_best_param_grid.items():\n",
        "    n_factors, n_epochs, lr_all, reg_all = fetch_params(param_grid['rmse'])\n",
        "    kf = KFold(n_splits=n_split)\n",
        "    algo = SVD(n_factors = n_factors, n_epochs = n_epochs, lr_all = lr_all, reg_all = reg_all)\n",
        "    scores = []\n",
        "    for trainset, testset in kf.split(data):\n",
        "        # train and test algorithm.\n",
        "        algo.fit(trainset)\n",
        "        predictions = algo.test(testset)\n",
        "        # Compute and print Root Mean Squared Error\n",
        "        print(f\"RMSE for {n_split}:\")\n",
        "        rmse = accuracy.rmse(predictions)\n",
        "        scores.append(rmse)\n",
        "        # print(f\"RMSE for {n_split}: \",rmse)\n",
        "    SVD_rmses.append(min(scores))\n",
        "  return SVD_rmses"
      ],
      "metadata": {
        "id": "_vger_XKRKqj"
      },
      "execution_count": 19,
      "outputs": []
    },
    {
      "cell_type": "code",
      "source": [
        "def fetch_params(param_grid):\n",
        "    return param_grid['n_factors'], param_grid['n_epochs'], param_grid['lr_all'], param_grid['reg_all']"
      ],
      "metadata": {
        "id": "u3ANs8xVRdGr"
      },
      "execution_count": 20,
      "outputs": []
    },
    {
      "cell_type": "code",
      "source": [
        "SVD_rmses = train_and_test_model()"
      ],
      "metadata": {
        "colab": {
          "base_uri": "https://localhost:8080/"
        },
        "id": "zP4dWtFmRXYV",
        "outputId": "cf128a4b-6582-4302-95fe-01013960d363"
      },
      "execution_count": 21,
      "outputs": [
        {
          "output_type": "stream",
          "name": "stdout",
          "text": [
            "RMSE for 3:\n",
            "RMSE: 0.8203\n",
            "RMSE for 3:\n",
            "RMSE: 0.7339\n",
            "RMSE for 3:\n",
            "RMSE: 0.7003\n",
            "RMSE for 5:\n",
            "RMSE: 0.7188\n",
            "RMSE for 5:\n",
            "RMSE: 0.6295\n",
            "RMSE for 5:\n",
            "RMSE: 0.6088\n",
            "RMSE for 5:\n",
            "RMSE: 0.7277\n",
            "RMSE for 5:\n",
            "RMSE: 0.6943\n",
            "RMSE for 6:\n",
            "RMSE: 0.6472\n",
            "RMSE for 6:\n",
            "RMSE: 0.6336\n",
            "RMSE for 6:\n",
            "RMSE: 0.5991\n",
            "RMSE for 6:\n",
            "RMSE: 0.6617\n",
            "RMSE for 6:\n",
            "RMSE: 0.6694\n",
            "RMSE for 6:\n",
            "RMSE: 0.6202\n"
          ]
        }
      ]
    },
    {
      "cell_type": "code",
      "source": [
        "print(SVD_rmses)\n",
        "def plot(kfolds, rmses, algo):\n",
        "  plt.plot(kfolds, rmses)\n",
        "  plt.ylabel('RMSE Scores')\n",
        "  plt.xlabel('k splits')\n",
        "  plt.savefig(f\"{algo}_RMSE_to_k_splits.png\")"
      ],
      "metadata": {
        "colab": {
          "base_uri": "https://localhost:8080/"
        },
        "id": "uJAP7BHuRe1L",
        "outputId": "c47e67dd-63a4-4f41-e293-31697600c8f9"
      },
      "execution_count": 22,
      "outputs": [
        {
          "output_type": "stream",
          "name": "stdout",
          "text": [
            "[0.700310977314118, 0.6087816598302225, 0.5990637441198243]\n"
          ]
        }
      ]
    },
    {
      "cell_type": "code",
      "source": [
        "kfolds_SVD = [3,5,6]\n",
        "plot(kfolds_SVD, SVD_rmses, \"SVD\")"
      ],
      "metadata": {
        "colab": {
          "base_uri": "https://localhost:8080/",
          "height": 279
        },
        "id": "vQb7AeBoRjdx",
        "outputId": "2c52526e-9bfd-4373-a3aa-94961efe447e"
      },
      "execution_count": 23,
      "outputs": [
        {
          "output_type": "display_data",
          "data": {
            "text/plain": [
              "<Figure size 432x288 with 1 Axes>"
            ],
            "image/png": "[encoded data removed]"
          },
          "metadata": {
            "needs_background": "light"
          }
        }
      ]
    },
    {
      "cell_type": "markdown",
      "source": [
        "##2. SVDpp"
      ],
      "metadata": {
        "id": "H-mxSXtDRn2I"
      }
    },
    {
      "cell_type": "code",
      "source": [
        "SVDpp_rmses = []\n",
        "kfolds_SVDpp = [3,5,6]\n",
        "n_split_to_best_param_grid_SVDpp = dict()\n",
        "n_split_to_best_rmse_SVDpp = dict()\n",
        "     "
      ],
      "metadata": {
        "id": "HhoL7ekbRl7t"
      },
      "execution_count": 24,
      "outputs": []
    },
    {
      "cell_type": "code",
      "source": [
        "def SVDpp_hyperparamter_tuning(kfolds):\n",
        "  param_grid_SVDpp = {\n",
        "    'n_factors':[5,8,10,15,20],\n",
        "    'n_epochs': [20,30,40], \n",
        "    'lr_all': [0.005, 0.007],\n",
        "    'reg_all': [0.05,0.07],\n",
        "  }\n",
        "  for elem in kfolds:\n",
        "    gs_model = crossValidation(elem, SVDpp, param_grid_SVDpp)\n",
        "    gs_model.fit(data)\n",
        "    print(f\"With kFold as {elem}: \", gs_model.best_params)\n",
        "    n_split_to_best_param_grid_SVDpp[elem] = gs_model.best_params\n",
        "    print(f\"With kFold as {elem}: \", gs_model.best_score['rmse'])\n",
        "    n_split_to_best_rmse_SVDpp[elem] = gs_model.best_score['rmse']"
      ],
      "metadata": {
        "id": "ducwqaupSc1q"
      },
      "execution_count": 25,
      "outputs": []
    },
    {
      "cell_type": "code",
      "source": [
        "SVDpp_hyperparamter_tuning(kfolds_SVDpp)"
      ],
      "metadata": {
        "colab": {
          "base_uri": "https://localhost:8080/"
        },
        "id": "f1HHuXgySfRD",
        "outputId": "abb1fb8f-a8e1-4d7b-b448-5dbc443fb3a0"
      },
      "execution_count": 26,
      "outputs": [
        {
          "output_type": "stream",
          "name": "stdout",
          "text": [
            "With kFold as 3:  {'rmse': {'n_factors': 20, 'n_epochs': 40, 'lr_all': 0.007, 'reg_all': 0.05}}\n",
            "With kFold as 3:  0.7714494319222389\n",
            "With kFold as 5:  {'rmse': {'n_factors': 20, 'n_epochs': 40, 'lr_all': 0.007, 'reg_all': 0.05}}\n",
            "With kFold as 5:  0.7049074938871361\n",
            "With kFold as 6:  {'rmse': {'n_factors': 20, 'n_epochs': 40, 'lr_all': 0.007, 'reg_all': 0.05}}\n",
            "With kFold as 6:  0.670767979695544\n"
          ]
        }
      ]
    },
    {
      "cell_type": "code",
      "source": [
        "def train_and_test_model_SVDpp():\n",
        "  SVD_rmsespp = []\n",
        "  for n_split,param_grid in n_split_to_best_param_grid_SVDpp.items():\n",
        "    n_factors, n_epochs, lr_all, reg_all = fetch_params(param_grid['rmse'])\n",
        "    kf = KFold(n_splits=n_split)\n",
        "    algo = SVDpp(n_factors = n_factors, n_epochs = n_epochs, lr_all = lr_all, reg_all = reg_all)\n",
        "    scores = []\n",
        "    for trainset, testset in kf.split(data):\n",
        "        # train and test algorithm.\n",
        "        algo.fit(trainset)\n",
        "        predictions = algo.test(testset)\n",
        "        # Compute and print Root Mean Squared Error\n",
        "        print(f\"RMSE for {n_split}:\")\n",
        "        rmse = accuracy.rmse(predictions)\n",
        "        scores.append(rmse)\n",
        "        # print(f\"RMSE for {n_split}: \",rmse)\n",
        "    SVDpp_rmses.append(min(scores))\n",
        "  return SVDpp_rmses"
      ],
      "metadata": {
        "id": "ND5wSnvdSwB8"
      },
      "execution_count": 27,
      "outputs": []
    },
    {
      "cell_type": "code",
      "source": [
        "SVDpp_rmses = train_and_test_model_SVDpp()"
      ],
      "metadata": {
        "colab": {
          "base_uri": "https://localhost:8080/"
        },
        "id": "FUi8zTD2S006",
        "outputId": "29809b54-4bd8-4d00-a9c9-a560ac7a2450"
      },
      "execution_count": 28,
      "outputs": [
        {
          "output_type": "stream",
          "name": "stdout",
          "text": [
            "RMSE for 3:\n",
            "RMSE: 0.7622\n",
            "RMSE for 3:\n",
            "RMSE: 0.7253\n",
            "RMSE for 3:\n",
            "RMSE: 0.7429\n",
            "RMSE for 5:\n",
            "RMSE: 0.7513\n",
            "RMSE for 5:\n",
            "RMSE: 0.6607\n",
            "RMSE for 5:\n",
            "RMSE: 0.7059\n",
            "RMSE for 5:\n",
            "RMSE: 0.7181\n",
            "RMSE for 5:\n",
            "RMSE: 0.6501\n",
            "RMSE for 6:\n",
            "RMSE: 0.5949\n",
            "RMSE for 6:\n",
            "RMSE: 0.6596\n",
            "RMSE for 6:\n",
            "RMSE: 0.7289\n",
            "RMSE for 6:\n",
            "RMSE: 0.7163\n",
            "RMSE for 6:\n",
            "RMSE: 0.7109\n",
            "RMSE for 6:\n",
            "RMSE: 0.6693\n"
          ]
        }
      ]
    },
    {
      "cell_type": "code",
      "source": [
        "plot(kfolds_SVDpp, SVDpp_rmses, \"SVDpp\")"
      ],
      "metadata": {
        "colab": {
          "base_uri": "https://localhost:8080/",
          "height": 279
        },
        "id": "bjZ_NaL5S2LB",
        "outputId": "246c29fc-548c-47a6-8b11-2a69dfcc3b53"
      },
      "execution_count": 29,
      "outputs": [
        {
          "output_type": "display_data",
          "data": {
            "text/plain": [
              "<Figure size 432x288 with 1 Axes>"
            ],
            "image/png": "[encoded data removed]"
          },
          "metadata": {
            "needs_background": "light"
          }
        }
      ]
    },
    {
      "cell_type": "markdown",
      "source": [
        "##Comparing SVD versus SVDpp"
      ],
      "metadata": {
        "id": "fttYWYICS75U"
      }
    },
    {
      "cell_type": "code",
      "source": [
        "plt.plot(kfolds_SVDpp, SVDpp_rmses)\n",
        "plt.plot(kfolds_SVD, SVD_rmses)\n",
        "plt.ylabel('RMSE Scores')\n",
        "plt.xlabel('k splits')\n",
        "plt.savefig(\"SVD_versusus_SVDpp_RMSE_to_k_splits.png\")"
      ],
      "metadata": {
        "colab": {
          "base_uri": "https://localhost:8080/",
          "height": 279
        },
        "id": "qqrDAAnqS5e4",
        "outputId": "8b94451b-b9ca-40a4-accc-6ad4f335aa70"
      },
      "execution_count": 30,
      "outputs": [
        {
          "output_type": "display_data",
          "data": {
            "text/plain": [
              "<Figure size 432x288 with 1 Axes>"
            ],
            "image/png": "[encoded data removed]"
          },
          "metadata": {
            "needs_background": "light"
          }
        }
      ]
    }
  ]
}